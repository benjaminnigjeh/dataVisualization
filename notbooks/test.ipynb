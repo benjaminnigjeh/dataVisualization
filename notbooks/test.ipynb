{
 "cells": [
  {
   "cell_type": "code",
   "execution_count": null,
   "metadata": {},
   "outputs": [],
   "source": [
    "import dash\n",
    "from dash import html\n",
    "from dash import dcc\n",
    "from dash.dependencies import Input, Output\n",
    "import plotly.express as px\n",
    "import pandas as pd\n",
    "\n",
    "# Sample data\n",
    "df = pd.DataFrame({\n",
    "    'x': [1, 2, 3, 4, 5],\n",
    "    'y': [10, 11, 12, 13, 14]\n",
    "})\n",
    "\n",
    "# Initialize the Dash app\n",
    "app = dash.Dash(__name__)\n",
    "\n",
    "# Define the layout of the dashboard\n",
    "app.layout = html.Div([\n",
    "    html.H1(\"Data Visualization Dashboard\"),\n",
    "    dcc.Graph(id='scatter-plot'),\n",
    "    dcc.Slider(\n",
    "        id='slider',\n",
    "        min=1,\n",
    "        max=10,\n",
    "        step=1,\n",
    "        value=5,\n",
    "        marks={i: str(i) for i in range(1, 11)}\n",
    "    )\n",
    "])\n",
    "\n",
    "# Define callback to update the scatter plot based on slider value\n",
    "@app.callback(\n",
    "    Output('scatter-plot', 'figure'),\n",
    "    Input('slider', 'value')\n",
    ")\n",
    "def update_scatter_plot(selected_value):\n",
    "    # Update the data based on the selected value\n",
    "    updated_df = df[df['x'] <= selected_value]\n",
    "    \n",
    "    # Create a scatter plot\n",
    "    fig = px.scatter(updated_df, x='x', y='y', title='Scatter Plot')\n",
    "    \n",
    "    return fig\n",
    "\n",
    "# Run the Dash app\n",
    "if __name__ == '__main__':\n",
    "    app.run_server(debug=True)\n"
   ]
  }
 ],
 "metadata": {
  "kernelspec": {
   "display_name": "alphapeptdeep39",
   "language": "python",
   "name": "python3"
  },
  "language_info": {
   "codemirror_mode": {
    "name": "ipython",
    "version": 3
   },
   "file_extension": ".py",
   "mimetype": "text/x-python",
   "name": "python",
   "nbconvert_exporter": "python",
   "pygments_lexer": "ipython3",
   "version": "3.9.19"
  }
 },
 "nbformat": 4,
 "nbformat_minor": 2
}
